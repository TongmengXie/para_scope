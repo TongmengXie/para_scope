{
 "cells": [
  {
   "cell_type": "markdown",
   "metadata": {},
   "source": [
    "Exercise done by Tommy Xie (TommyXie_@outlook.com)\n",
    "Time spent: 110 mins"
   ]
  },
  {
   "cell_type": "markdown",
   "id": "ed2c5550-389e-4921-88ea-0d49ae212d5a",
   "metadata": {},
   "source": [
    " ## Continuation ParaScope.\n"
   ]
  },
  {
   "cell_type": "markdown",
   "id": "6dea2400-9c31-4571-8621-a9f59a0b4772",
   "metadata": {},
   "source": [
    " Install necessary packages for transformer models and evaluation metrics.\n",
    " Just run and continue unless there are errors.\n",
    " you may need to install some packages:"
   ]
  },
  {
   "cell_type": "code",
   "execution_count": 1,
   "id": "653d2722-376d-48ec-8cb6-01fafd3141af",
   "metadata": {},
   "outputs": [
    {
     "name": "stderr",
     "output_type": "stream",
     "text": [
      "/root/Tommy/.conda/lib/python3.11/site-packages/tqdm/auto.py:21: TqdmWarning: IProgress not found. Please update jupyter and ipywidgets. See https://ipywidgets.readthedocs.io/en/stable/user_install.html\n",
      "  from .autonotebook import tqdm as notebook_tqdm\n"
     ]
    },
    {
     "data": {
      "text/plain": [
       "<torch.autograd.grad_mode.set_grad_enabled at 0x75458b5c0550>"
      ]
     },
     "execution_count": 1,
     "metadata": {},
     "output_type": "execute_result"
    }
   ],
   "source": [
    "# %%\n",
    "\n",
    "# !pip install -q transformer-lens plotly pandas matplotlib seaborn numpy scikit-learn datasets transformers sentence-transformers\n",
    "\n",
    "from transformer_lens import HookedTransformer\n",
    "import torch\n",
    "import torch.nn as nn\n",
    "import einops\n",
    "from typing import Callable\n",
    "from jaxtyping import Float\n",
    "from torch import Tensor\n",
    "from transformer_lens.hook_points import HookPoint\n",
    "from transformer_lens import HookedTransformerConfig\n",
    "torch.set_grad_enabled(False)"
   ]
  },
  {
   "cell_type": "markdown",
   "id": "b90952b4-1d18-4a40-9124-19f49208b07a",
   "metadata": {},
   "source": [
    " # Continuation ParaScope Implementation\n",
    "\n",
    " ParaScope (Paragraph Scope) is a method for extracting paragraph-level information from language model residual streams.\n",
    " The core idea is to decode what a language model is \"planning\" to write in an upcoming paragraph by analyzing the\n",
    " residual stream activations at transition points (like \"\\n\\n\" tokens).\n",
    "\n",
    " ![ParaScope Illustration](https://39669.cdn.cke-cs.com/rQvD3VnunXZu34m86e5f/images/7421b220f111e4736b9a8d5a7bae0d0267d1b321fbda5461.png)\n",
    "\n",
    " **Continuation ParaScope** is the simplest approach:\n",
    " 1. Extract residual stream activations at a \"\\n\\n\" token from some original text\n",
    " 2. Create a minimal prompt with just \"<bos>\\n\\n\"\n",
    " 3. Replace the residual activations of the \"\\n\\n\" token with the saved activations\n",
    " 4. Generate text to see what the model \"planned\" to write\n",
    "\n",
    " This tests whether language models encode information about upcoming paragraphs in their residual streams,\n",
    " providing evidence for either explicit or implicit planning in language generation.\n",
    "\n",
    "\n",
    " ![Continuation Parascope Illustration](https://39669.cdn.cke-cs.com/rQvD3VnunXZu34m86e5f/images/bb0725d6fb774228484beadd06dd8af5185f7c7d539b7090.png)\n"
   ]
  },
  {
   "cell_type": "markdown",
   "id": "4c518da6-63f9-4ebd-80e8-9d07ec5318d3",
   "metadata": {},
   "source": [
    " ## Setup and Installation\n",
    "\n",
    " We start by loading the model and tokenizer."
   ]
  },
  {
   "cell_type": "code",
   "execution_count": 2,
   "metadata": {},
   "outputs": [],
   "source": [
    "torch.cuda.empty_cache()"
   ]
  },
  {
   "cell_type": "code",
   "execution_count": 3,
   "id": "90063d62-3552-44fe-acae-6661c5caa54c",
   "metadata": {},
   "outputs": [
    {
     "name": "stderr",
     "output_type": "stream",
     "text": [
      "Loading checkpoint shards: 100%|██████████| 2/2 [00:03<00:00,  1.73s/it]\n",
      "WARNING:root:You are not using LayerNorm, so the writing weights can't be centered! Skipping\n"
     ]
    },
    {
     "name": "stdout",
     "output_type": "stream",
     "text": [
      "Loaded pretrained model meta-llama/Llama-3.2-3B-Instruct into HookedTransformer\n",
      "Available hook points:\n",
      "hook_embed\n",
      "blocks.0.ln1.hook_scale\n",
      "blocks.0.ln1.hook_normalized\n",
      "blocks.0.ln2.hook_scale\n",
      "blocks.0.ln2.hook_normalized\n",
      "blocks.0.attn.hook_k\n",
      "blocks.0.attn.hook_q\n",
      "blocks.0.attn.hook_v\n",
      "blocks.0.attn.hook_z\n",
      "blocks.0.attn.hook_attn_scores\n",
      "blocks.0.attn.hook_pattern\n",
      "blocks.0.attn.hook_result\n",
      "blocks.0.attn.hook_rot_k\n",
      "blocks.0.attn.hook_rot_q\n",
      "blocks.0.mlp.hook_pre\n",
      "blocks.0.mlp.hook_pre_linear\n",
      "blocks.0.mlp.hook_post\n",
      "blocks.0.hook_attn_in\n",
      "blocks.0.hook_q_input\n",
      "blocks.0.hook_k_input\n",
      "blocks.0.hook_v_input\n",
      "blocks.0.hook_mlp_in\n",
      "blocks.0.hook_attn_out\n",
      "blocks.0.hook_mlp_out\n",
      "blocks.0.hook_resid_pre\n",
      "blocks.0.hook_resid_mid\n",
      "blocks.0.hook_resid_post\n",
      "blocks.1.ln1.hook_scale\n"
     ]
    }
   ],
   "source": [
    "# %%\n",
    "model = HookedTransformer.from_pretrained(\"meta-llama/Llama-3.2-3B-Instruct\")\n",
    "\n",
    "print(\"Available hook points:\")\n",
    "for name in list(model.hook_dict.keys())[:28]:  # Show first few hook points\n",
    "    print(name)"
   ]
  },
  {
   "cell_type": "markdown",
   "id": "9a71dcdb-f863-42d6-b102-d8c86e474b5f",
   "metadata": {},
   "source": [
    " ### Prompting and relevant scaffolding\n",
    " Some functions to help with prompting"
   ]
  },
  {
   "cell_type": "code",
   "execution_count": 4,
   "id": "c0daef75-2f09-46c1-acbc-a5204576f1f2",
   "metadata": {},
   "outputs": [],
   "source": [
    "# %%\n",
    "\n",
    "def format_prompt(prompt: str) -> torch.Tensor:\n",
    "    \"\"\"\n",
    "    Create tokenized chat using the model's tokenizer with chat template.\n",
    "    \"\"\"\n",
    "    messages = [\n",
    "        {\"role\": \"user\", \"content\": prompt}\n",
    "    ]\n",
    "\n",
    "    # Apply chat template and tokenize\n",
    "    return model.tokenizer.apply_chat_template(\n",
    "        messages,\n",
    "        tokenize=False,\n",
    "        add_generation_prompt=True,\n",
    "    )\n",
    "\n",
    "def two_topics_prompt(topic1: str, topic2: str) -> torch.Tensor:\n",
    "    prompt = f\"\"\"\n",
    "Please write two paragraphs, each of length 2 sentences. The first should describe {topic1}, and the second should describe {topic2}. Do not say explicitly name the topic, and do not say anything else.\n",
    "\"\"\"\n",
    "    return format_prompt(prompt)\n",
    "\n",
    "def extract_second_paragraph(text: str) -> str:\n",
    "    return text.split(\"\\n\\n\")[1]"
   ]
  },
  {
   "cell_type": "markdown",
   "id": "80b4d1ef-eeb2-4fd2-aaee-9572073fdcde",
   "metadata": {},
   "source": [
    " ### Baseline Generation\n",
    " Try running the model with just the prompt to get a baseline."
   ]
  },
  {
   "cell_type": "code",
   "execution_count": 5,
   "id": "f6595777-201a-4d53-8af6-3f80c5d61884",
   "metadata": {},
   "outputs": [
    {
     "name": "stderr",
     "output_type": "stream",
     "text": [
      "  0%|          | 0/200 [00:00<?, ?it/s]"
     ]
    },
    {
     "name": "stderr",
     "output_type": "stream",
     "text": [
      " 54%|█████▍    | 108/200 [00:05<00:04, 19.80it/s]"
     ]
    },
    {
     "name": "stdout",
     "output_type": "stream",
     "text": [
      "['<|begin_of_text|>', '<|start_header_id|>', 'system', '<|end_header_id|>', '\\n\\n', 'Cut', 'ting', ' Knowledge', ' Date', ':', ' December', ' ', '202', '3', '\\n', 'Today', ' Date', ':', ' ', '18', ' Jul', ' ', '202', '5', '\\n\\n', '<|eot_id|>', '<|start_header_id|>', 'user', '<|end_header_id|>', '\\n\\n', 'Please', ' write', ' two', ' paragraphs', ',', ' each', ' of', ' length', ' ', '2', ' sentences', '.', ' The', ' first', ' should', ' describe', ' monster', ' trucks', ',', ' and', ' the', ' second', ' should', ' describe', ' par', 'acet', 'am', 'ol', '.', ' Do', ' not', ' say', ' explicitly', ' name', ' the', ' topic', ',', ' and', ' do', ' not', ' say', ' anything', ' else', '.', '<|eot_id|>', '<|start_header_id|>', 'assistant', '<|end_header_id|>', '\\n\\n']\n",
      "['G', 'iant', ' vehicles', ',', ' often', ' customized', ' for', ' speed', ' and', ' power', ',', ' dominate', ' the', ' landscape', ' with', ' their', ' massive', ' wheels', ' and', ' imposing', ' presence', ',', ' crushing', ' cars', ' and', ' obstacles', ' with', ' ease', '.', ' These', ' beh', 'emo', 'ths', ' are', ' typically', ' driven', ' by', ' skilled', ' operators', ' who', ' navigate', ' tre', 'acher', 'ous', ' courses', ' with', ' precision', ' and', ' control', '.\\n\\n', 'A', ' widely', ' used', ' pain', ' relie', 'ver', ',', ' available', ' in', ' various', ' forms', ',', ' is', ' often', ' taken', ' to', ' alleviate', ' headaches', ',', ' fever', ',', ' and', ' other', ' minor', ' a', 'ches', ',', ' providing', ' temporary', ' relief', ' from', ' discomfort', '.', ' Its', ' active', ' ingredient', ' is', ' commonly', ' found', ' in', ' many', ' over', '-the', '-counter', ' medications', ',', ' and', ' its', ' effectiveness', ' has', ' made', ' it', ' a', ' staple', ' in', ' many', ' households', '.', '<|eot_id|>']\n",
      "Index of first newline: 49 (['.\\n\\n'])\n",
      "Giant vehicles, often customized for speed and power, dominate the landscape with their massive wheels and imposing presence, crushing cars and obstacles with ease. These behemoths are typically driven by skilled operators who navigate treacherous courses with precision and control.\n",
      "\n",
      "\n",
      "A widely used pain reliever, available in various forms, is often taken to alleviate headaches, fever, and other minor aches, providing temporary relief from discomfort. Its active ingredient is commonly found in many over-the-counter medications, and its effectiveness has made it a staple in many households.<|eot_id|>\n"
     ]
    },
    {
     "name": "stderr",
     "output_type": "stream",
     "text": [
      "\n"
     ]
    }
   ],
   "source": [
    "# %%\n",
    "\n",
    "prompt = two_topics_prompt(\"monster trucks\", \"paracetamol\")\n",
    "prompt_tokens = model.to_tokens(prompt)[:, 1:] # remove double <bos>\n",
    "\n",
    "# Generate context based on the string\n",
    "baseline_generated_tokens = model.generate(prompt_tokens, max_new_tokens=200, do_sample=True, temperature=0.3)\n",
    "output_tokens = baseline_generated_tokens[:, len(prompt_tokens[0]):]\n",
    "output_str_tokens = model.to_str_tokens(output_tokens)\n",
    "print(model.to_str_tokens(prompt_tokens))\n",
    "print(output_str_tokens)\n",
    "\n",
    "# get first paragraph\n",
    "# Find the index of the first occurrence of '\\n\\n' in the output tokens\n",
    "index_of_first_newline = None\n",
    "for i, token in enumerate(output_str_tokens):\n",
    "    if '\\n\\n' in token:\n",
    "        index_of_first_newline = i\n",
    "        break\n",
    "\n",
    "assert index_of_first_newline is not None\n",
    "print(f\"Index of first newline: {index_of_first_newline} ({[output_str_tokens[index_of_first_newline]]})\")\n",
    "\n",
    "par1_tokens = output_tokens[:, :index_of_first_newline+1]\n",
    "par2_tokens = output_tokens[:, index_of_first_newline+1:]\n",
    "par1_str = model.to_string(par1_tokens)[0]\n",
    "par2_str = model.to_string(par2_tokens)[0]\n",
    "prompt_with_par1 = torch.cat((prompt_tokens, par1_tokens), dim=-1)\n",
    "print(par1_str)\n",
    "print(par2_str)"
   ]
  },
  {
   "cell_type": "markdown",
   "id": "bd945e01-a414-4b27-b4ab-2fb6aec8b72e",
   "metadata": {},
   "source": [
    " Define the hooks that we'll use to capture the activations\n",
    "\n",
    " We'll use the `store_hook` method to store the activations, and the `modify_hook` method to modify the activations.\n",
    "\n",
    " The `modify_hook` method is given the activation and the hook, and should return the modified activation only if the hook has not been seen before. (this prevents the scenario where you keep getting the same output over and over)\n",
    " We can optionally scale the changed activations by multiplying by a scalar modify_scaling_factor."
   ]
  },
  {
   "cell_type": "code",
   "execution_count": 6,
   "id": "0240508b-b813-4078-80b1-207462adf5c5",
   "metadata": {},
   "outputs": [],
   "source": [
    "class ActStore:\n",
    "    def __init__(self, model: HookedTransformer):\n",
    "        self.act_store = {}\n",
    "        self.act_seen = set()\n",
    "\n",
    "        chosen_hooks = ['hook_resid_pre', 'hook_resid_mid']\n",
    "        Ls = range(model.cfg.n_layers) # all layers, you can test with fewer layers\n",
    "        self.chosen_hook_list = \\\n",
    "            [f'blocks.{i}.{h}' for h in chosen_hooks for i in Ls]\n",
    "        self.modify_scaling_factor = 1.0\n",
    "        self.modify_hook_token_idx = -1\n",
    "\n",
    "    def store_hook(self, act, hook):\n",
    "        \"\"\"\n",
    "        Store the activations for the given hook, based on the hook name.\n",
    "        \"\"\"\n",
    "        # [your implementation here]\n",
    "        self.act_store[hook.name] = act.clone()\n",
    "        return act\n",
    "        # raise NotImplementedError(\"You need to implement this.\")\n",
    "        \n",
    "\n",
    "    def modify_hook(self, act, hook):\n",
    "        \"\"\"\n",
    "        Modify the activations for the given hook at modify_hook_token_idx, based on the hook name. Optionally scale the source activations by modify_scaling_factor.\n",
    "        \"\"\"\n",
    "        # should we modify the act, or have we already done so?\n",
    "        if hook.name in self.act_seen: # If seen before, return the unmodified act\n",
    "            return act\n",
    "        self.act_seen.add(hook.name)\n",
    "\n",
    "        # modify the act\n",
    "        # [your implementation here]\n",
    "        src_act = self.act_store[hook.name] # shape (n_b, n_seq, d_model)\n",
    "        act[:, self.modify_hook_token_idx, :] = src_act[:, -1, :] * self.modify_scaling_factor\n",
    "        return act\n",
    "        # raise NotImplementedError(\"You need to implement this.\")\n",
    "\n",
    "    def modify_hook_list(self):\n",
    "        \"return a list of hooks to modify, and reset the act_seen set to empty\"\n",
    "        self.act_seen = set()\n",
    "        return [(hook, self.modify_hook) for hook in self.chosen_hook_list]\n",
    "\n",
    "    def store_hook_list(self):\n",
    "        \"return a list of hooks to store\"\n",
    "        return [(hook, self.store_hook) for hook in self.chosen_hook_list]\n",
    "\n",
    "act_store = ActStore(model)"
   ]
  },
  {
   "cell_type": "markdown",
   "id": "b72881a8-42ce-49c3-ba0c-5b199ecbf547",
   "metadata": {},
   "source": [
    " ## Generate with transferred activations.\n",
    " This technique demonstrates \"activation patching\" or \"activation transfer\" - a method for transferring learned context from one prompt to another by manipulating the model's internal representations.\n",
    "\n",
    " The process works as follows:\n",
    " 1. Run the model on a \"source\" prompt that contains rich context (e.g., a paragraph with specific style/content)\n",
    " 2. Store the intermediate activations (residual stream values) from all the layers for the token of interest on the source prompt\n",
    " 3. Run the model on a \"target\" prompt that lacks context (e.g., just \"\\n\\n\")\n",
    " 4. During the target generation, replace the activations at the same positions with the stored activations from the source\n",
    " 5. This allows the model to generate text as if it had the original context, even though the target prompt is minimal\n",
    "\n",
    " This technique reveals how much contextual information is encoded in the model's intermediate representations\n",
    " and can be used to study how different types of context (style, topic, format) are stored and utilized.\n",
    " Get the full string (example + generated text)"
   ]
  },
  {
   "cell_type": "code",
   "execution_count": 7,
   "id": "d5e75024-c224-4c26-aff4-c6da9cc5fee6",
   "metadata": {},
   "outputs": [],
   "source": [
    "def transfer_activations(tokens: torch.Tensor, num_copies: int = 10, num_tokens: int = 30):\n",
    "    \"\"\"\n",
    "    Function that:\n",
    "    - runs the model once with the original prompt, with hooks to save the activations\n",
    "    - Creates a new prompt with \"\\n\\n\" repeated num_copies times\n",
    "    - then runs the model again with the new prompt, with hooks modifying the activations at the final token to match the original, ang generates many tokens.\n",
    "    - returns List[torch.Tensor] of generated tokens\n",
    "    \"\"\"\n",
    "\n",
    "    # [your implementation here]\n",
    "    # raise NotImplementedError(\"You need to implement this.\")\n",
    "    # save orginal activations\n",
    "    with model.hooks(fwd_hooks = act_store.store_hook_list()):\n",
    "        _ = model(tokens)\n",
    "\n",
    "    new_prompt = \"\\n\\n\"\n",
    "    new_toks = model.to_tokens([new_prompt for _ in range(num_copies)])\n",
    "    # copying\n",
    "    with model.hooks(fwd_hooks = act_store.modify_hook_list()):\n",
    "        new_gen = model.generate(new_toks, max_new_tokens=num_tokens, do_sample=True, temperature=0.4) # what does do_sample do here?\n",
    "        \n",
    "    return new_gen\n"
   ]
  },
  {
   "cell_type": "markdown",
   "id": "ab768167-deda-477b-ba52-c3784ef31e3e",
   "metadata": {},
   "source": [
    " ## Demonstrating Activation Transfer\n",
    "\n",
    " Now we'll test our activation transfer function on different prompts to see how well it preserves\n",
    " and transfers contextual information. We'll run the function on:\n",
    " 1. The original single paragraph prompt to see how it continues the established style/content\n",
    " 2. The two-paragraph prompt to observe how it handles more complex context transfer\n",
    "\n",
    " Each test will generate multiple continuations to show the consistency and variability of the transfer.\n",
    " try for paragraph 1"
   ]
  },
  {
   "cell_type": "code",
   "execution_count": 8,
   "metadata": {},
   "outputs": [
    {
     "data": {
      "text/plain": [
       "(['<|begin_of_text|><|start_header_id|>system<|end_header_id|>\\n\\nCutting Knowledge Date: December 2023\\nToday Date: 18 Jul 2025\\n\\n<|eot_id|><|start_header_id|>user<|end_header_id|>\\n\\nPlease write two paragraphs, each of length 2 sentences. The first should describe monster trucks, and the second should describe paracetamol. Do not say explicitly name the topic, and do not say anything else.<|eot_id|><|start_header_id|>assistant<|end_header_id|>\\n\\n'],\n",
       " ['<|begin_of_text|><|start_header_id|>system<|end_header_id|>\\n\\nCutting Knowledge Date: December 2023\\nToday Date: 18 Jul 2025\\n\\n<|eot_id|><|start_header_id|>user<|end_header_id|>\\n\\nPlease write two paragraphs, each of length 2 sentences. The first should describe monster trucks, and the second should describe paracetamol. Do not say explicitly name the topic, and do not say anything else.<|eot_id|><|start_header_id|>assistant<|end_header_id|>\\n\\nGiant vehicles, often customized for speed and power, dominate the landscape with their massive wheels and imposing presence, crushing cars and obstacles with ease. These behemoths are typically driven by skilled operators who navigate treacherous courses with precision and control.\\n\\n'])"
      ]
     },
     "execution_count": 8,
     "metadata": {},
     "output_type": "execute_result"
    }
   ],
   "source": [
    "model.to_string(prompt_tokens), model.to_string(prompt_with_par1) "
   ]
  },
  {
   "cell_type": "code",
   "execution_count": 9,
   "id": "25137831-c706-4f70-b26b-c3140450c8dc",
   "metadata": {},
   "outputs": [
    {
     "name": "stderr",
     "output_type": "stream",
     "text": [
      "100%|██████████| 30/30 [00:01<00:00, 18.38it/s]\n"
     ]
    },
    {
     "name": "stdout",
     "output_type": "stream",
     "text": [
      "['<|begin_of_text|>', '\\n\\n', 'These', ' vehicles', ' are', ' designed', ' to', ' withstand', ' the', ' harsh', ' conditions', ' of', ' the', ' desert', ',', ' with', ' reinforced', ' bodies', ' and', ' specialized', ' tires', ' that', ' can', ' handle', ' the', ' extreme', ' temperatures', ' and', ' rough', ' terrain', '.', ' Their']\n",
      "['<|begin_of_text|>', '\\n\\n', 'G', 'iant', ',', ' ancient', ' trees', ' stand', ' sentinel', ',', ' their', ' gn', 'ar', 'led', ' branches', ' twisted', ' by', ' the', ' relentless', ' passage', ' of', ' time', '.', ' The', ' air', ' is', ' heavy', ' with', ' the', ' scent', ' of', ' damp']\n",
      "['<|begin_of_text|>', '\\n\\n', 'These', ' vehicles', ' are', ' equipped', ' with', ' a', ' range', ' of', ' advanced', ' safety', ' features', ',', ' including', ' air', 'bags', ',', ' anti', '-lock', ' braking', ' systems', ',', ' and', ' electronic', ' stability', ' control', ',', ' to', ' help', ' prevent', ' accidents']\n",
      "['<|begin_of_text|>', '\\n\\n', 'G', 'iant', ' sequ', 'o', 'ias', ',', ' with', ' tr', 'unks', ' as', ' wide', ' as', ' ', '30', ' feet', ' and', ' can', 'opies', ' that', ' stretch', ' over', ' ', '100', ' feet', ',', ' are', ' a', ' testament', ' to', ' the']\n",
      "['<|begin_of_text|>', '\\n\\n', 'These', ' vehicles', ' are', ' designed', ' to', ' navigate', ' the', ' challenging', ' terrain', ' of', ' the', ' wilderness', ',', ' featuring', ' four', '-wheel', ' drive', ' capabilities', ' and', ' high', ' ground', ' clearance', ' to', ' ensure', ' stability', ' and', ' control', ' on', ' uneven', ' surfaces']\n",
      "['<|begin_of_text|>', '\\n\\n', 'Large', ',', ' dark', '-colored', ' birds', ' with', ' strong', ',', ' hooked', ' be', 'aks', ' and', ' sharp', ' tal', 'ons', ' are', ' often', ' seen', ' flying', ' overhead', ' or', ' per', 'ched', ' in', ' trees', ',', ' their', ' distinctive', ' calls', ' echoing']\n",
      "['<|begin_of_text|>', '\\n\\n', 'These', ' vehicles', ' are', ' designed', ' to', ' withstand', ' the', ' h', 'ars', 'hest', ' of', ' environments', ',', ' with', ' reinforced', ' frames', ' and', ' specialized', ' tires', ' that', ' can', ' handle', ' extreme', ' temperatures', ' and', ' rugged', ' terrain', '.', ' Their', ' powerful']\n",
      "['<|begin_of_text|>', '\\n\\n', 'These', ' vehicles', ' are', ' equipped', ' with', ' a', ' range', ' of', ' advanced', ' safety', ' features', ',', ' including', ' lane', ' departure', ' warning', ' systems', ',', ' blind', ' spot', ' monitoring', ',', ' and', ' automatic', ' emergency', ' braking', '.', ' Additionally', ',', ' they']\n",
      "['<|begin_of_text|>', '\\n\\n', 'G', 'iant', ',', ' ancient', ' trees', ' stretch', ' towards', ' the', ' sky', ',', ' their', ' gn', 'ar', 'led', ' branches', ' twisted', ' and', ' tangled', ' in', ' a', ' dance', ' of', ' nature', \"'s\", ' art', 'istry', '.', ' The', ' air', ' is']\n",
      "['<|begin_of_text|>', '\\n\\n', 'G', 'iant', ' metal', ' birds', ' soar', ' through', ' the', ' sky', ',', ' their', ' wings', ' beating', ' in', ' un', 'ison', ' as', ' they', ' ride', ' the', ' wind', ' currents', ' with', ' ease', '.', ' Their', ' feathers', ',', ' a', ' mesmer', 'izing']\n"
     ]
    },
    {
     "name": "stderr",
     "output_type": "stream",
     "text": [
      "100%|██████████| 30/30 [00:01<00:00, 18.50it/s]"
     ]
    },
    {
     "name": "stdout",
     "output_type": "stream",
     "text": [
      "['<|begin_of_text|>', '\\n\\n', 'A', ' white', ',', ' crystall', 'ine', ' powder', ' with', ' a', ' sweet', ',', ' pleasant', ' odor', ',', ' this', ' substance', ' is', ' commonly', ' used', ' in', ' cooking', ' and', ' baking', '.', ' It', ' is', ' also', ' used', ' in', ' the', ' production']\n",
      "['<|begin_of_text|>', '\\n\\n', 'A', ' white', ',', ' crystall', 'ine', ' powder', ' with', ' a', ' sweet', ',', ' pleasant', ' odor', ',', ' often', ' used', ' as', ' a', ' food', ' additive', ' and', ' flavor', 'ing', ' agent', '.', ' It', ' is', ' commonly', ' found', ' in', ' baked']\n",
      "['<|begin_of_text|>', '\\n\\n', 'A', ' small', ',', ' white', ' pill', ' is', ' often', ' taken', ' to', ' alleviate', ' symptoms', ' of', ' anxiety', ' and', ' insomnia', ',', ' and', ' is', ' available', ' by', ' prescription', ' only', '.', ' It', ' is', ' a', ' popular', ' choice', ' among', ' people']\n",
      "['<|begin_of_text|>', '\\n\\n', 'A', ' medication', ' is', ' a', ' chemical', ' substance', ' that', ' is', ' used', ' to', ' treat', ' or', ' prevent', ' disease', ' or', ' injury', '.', ' It', ' can', ' be', ' taken', ' orally', ',', ' applied', ' top', 'ically', ',', ' or', ' injected', ' into']\n",
      "['<|begin_of_text|>', '\\n\\n', 'A', ' medication', ' is', ' a', ' substance', ' that', ' is', ' used', ' to', ' treat', ' or', ' prevent', ' a', ' medical', ' condition', ',', ' and', ' it', ' is', ' typically', ' taken', ' by', ' mouth', ',', ' injected', ',', ' or', ' applied', ' top', 'ically']\n",
      "['<|begin_of_text|>', '\\n\\n', 'A', ' white', ',', ' crystall', 'ine', ' powder', ' often', ' used', ' as', ' an', ' ant', 'acid', ',', ' this', ' substance', ' is', ' also', ' used', ' in', ' the', ' production', ' of', ' paper', ',', ' rubber', ',', ' and', ' textiles', '.', ' It']\n",
      "['<|begin_of_text|>', '\\n\\n', 'A', ' small', ',', ' white', ' pill', ' is', ' often', ' prescribed', ' to', ' treat', ' anxiety', ' and', ' insomnia', ',', ' and', ' is', ' commonly', ' taken', ' before', ' bedtime', '.', ' It', ' has', ' a', ' reputation', ' for', ' being', ' effective', ' in', ' promoting']\n",
      "['<|begin_of_text|>', '\\n\\n', 'A', ' specially', ' formulated', ' liquid', ' is', ' used', ' to', ' treat', ' various', ' ailments', ',', ' including', ' skin', ' conditions', ' and', ' joint', ' pain', '.', ' The', ' liquid', ' is', ' applied', ' top', 'ically', ' to', ' the', ' affected', ' area', ',', ' where']\n",
      "['<|begin_of_text|>', '\\n\\n', 'A', ' medication', ' is', ' a', ' substance', ' that', ' is', ' used', ' to', ' treat', ' or', ' prevent', ' various', ' health', ' conditions', ',', ' and', ' it', ' can', ' be', ' administered', ' in', ' various', ' forms', ',', ' such', ' as', ' oral', ' tablets', ' or']\n",
      "['<|begin_of_text|>', '\\n\\n', 'A', ' white', ',', ' crystall', 'ine', ' powder', ' with', ' a', ' characteristic', ' odor', ',', ' used', ' in', ' various', ' applications', ' including', ' perf', 'um', 'ery', ',', ' pharmaceutical', 's', ',', ' and', ' food', ' flavor', 'ing', '.', ' It', ' is']\n"
     ]
    },
    {
     "name": "stderr",
     "output_type": "stream",
     "text": [
      "\n"
     ]
    }
   ],
   "source": [
    "par1_continued_tokens = transfer_activations(prompt_tokens)\n",
    "for tok in par1_continued_tokens:\n",
    "    print(model.to_str_tokens(tok))\n",
    "\n",
    "# try for paragraph 2\n",
    "par2_continued_tokens = transfer_activations(prompt_with_par1)\n",
    "for tok in par2_continued_tokens:\n",
    "    print(model.to_str_tokens(tok))"
   ]
  },
  {
   "cell_type": "code",
   "execution_count": 10,
   "metadata": {},
   "outputs": [
    {
     "name": "stdout",
     "output_type": "stream",
     "text": [
      "Giant vehicles, often customized for speed and power, dominate the landscape with their massive wheels and imposing presence, crushing cars and obstacles with ease. These behemoths are typically driven by skilled operators who navigate treacherous courses with precision and control.\n",
      "\n",
      "\n",
      "A widely used pain reliever, available in various forms, is often taken to alleviate headaches, fever, and other minor aches, providing temporary relief from discomfort. Its active ingredient is commonly found in many over-the-counter medications, and its effectiveness has made it a staple in many households.<|eot_id|>\n"
     ]
    }
   ],
   "source": [
    "print(par1_str)\n",
    "print(par2_str)"
   ]
  },
  {
   "cell_type": "markdown",
   "id": "ca88fc66-d64d-4f01-8f9e-88f559f67864",
   "metadata": {},
   "source": [
    " What do you see?\n",
    " You should see that the transfered activations give *some* indicaiton of what the model was planning to write, but that they are far from perfect. It seems like the model can guess the next few words, and can sometimes bootstrap from there, but often fails to.\n",
    " Can we evaluate this more automatically?"
   ]
  },
  {
   "cell_type": "markdown",
   "id": "b70cc36d-9a72-479f-b81a-ec087b20fe3f",
   "metadata": {},
   "source": [
    " # Measuring the quality of the continuations.\n",
    " We use semantic text embeddings to measure how well our continuation ParaScope technique works.\n",
    " Semantic embeddings convert text into high-dimensional vectors that capture meaning - texts with\n",
    " similar meanings will have vectors that point in similar directions (high cosine similarity).\n",
    "\n",
    " Our evaluation process:\n",
    " 1. Encode both the original paragraph and the generated continuation into embedding vectors\n",
    " 2. Calculate cosine similarity between these vectors (ranges from -1 to 1, where 1 = identical meaning)\n",
    " 3. Higher similarity scores indicate that the continuation successfully captured the semantic content\n",
    "    that the model was \"planning\" to write in the original context\n",
    "\n",
    " This helps us quantify whether activation transfer preserves meaningful contextual information\n",
    " or just produces random text that happens to follow the same format."
   ]
  },
  {
   "cell_type": "code",
   "execution_count": null,
   "id": "0099b653-c494-45e0-92b5-024db5194927",
   "metadata": {},
   "outputs": [
    {
     "data": {
      "image/png": "[encoded data removed]",
      "text/plain": [
       "<Figure size 800x600 with 1 Axes>"
      ]
     },
     "metadata": {},
     "output_type": "display_data"
    },
    {
     "name": "stdout",
     "output_type": "stream",
     "text": [
      "Paragraph 1 mean similarity: 0.366\n",
      "Paragraph 2 mean similarity: 0.449\n"
     ]
    }
   ],
   "source": [
    "# %%\n",
    "\n",
    "\n",
    "import numpy as np\n",
    "from sentence_transformers import SentenceTransformer\n",
    "import matplotlib.pyplot as plt\n",
    "\n",
    "# Load evaluation model\n",
    "sentence_model = SentenceTransformer('all-mpnet-base-v2')\n",
    "\n",
    "def calculate_similarities(original_text, continued_tokens):\n",
    "    \"\"\"Calculate cosine similarities between original and continued text.\"\"\"\n",
    "    similarities = []\n",
    "\n",
    "    for cont_tokens in continued_tokens:\n",
    "        cont_text = \"\".join(model.to_str_tokens(cont_tokens))\n",
    "\n",
    "        # Calculate cosine similarity\n",
    "        if original_text and cont_text:\n",
    "            # [your implementation here]\n",
    "            vec1 = sentence_model.encode(original_text)\n",
    "            vec2 = sentence_model.encode(cont_text)\n",
    "            # (vec1 * vec2) / (torch.norm(vec1) * torch.norm(vec2))\n",
    "            sim = np.dot(vec1, vec2)/ (np.linalg.norm(vec1) * np.linalg.norm(vec2))\n",
    "            # raise NotImplementedError(\"You need to implement this.\")\n",
    "            similarities.append(sim)\n",
    "\n",
    "    return similarities\n",
    "\n",
    "# Calculate similarities for both paragraphs\n",
    "par1_similarities = calculate_similarities(par1_str, par1_continued_tokens)\n",
    "par2_similarities = calculate_similarities(par2_str, par2_continued_tokens)\n",
    "\n",
    "# Create comparison graph\n",
    "fig, ax = plt.subplots(figsize=(8, 6))\n",
    "box_data = [par1_similarities, par2_similarities]\n",
    "bp = ax.boxplot(box_data)\n",
    "ax.set_xticklabels(['Paragraph 1', 'Paragraph 2'])\n",
    "ax.set_ylabel('Cosine Similarity')\n",
    "ax.set_title('Semantic Similarity: Original vs Continued Text')\n",
    "ax.set_ylim(0, 1)\n",
    "plt.show()\n",
    "\n",
    "print(f\"Paragraph 1 mean similarity: {np.mean(par1_similarities):.3f}\")\n",
    "print(f\"Paragraph 2 mean similarity: {np.mean(par2_similarities):.3f}\")"
   ]
  },
  {
   "cell_type": "markdown",
   "id": "54a8a4ce-6e5b-4f90-a6d4-0bb9338c375f",
   "metadata": {},
   "source": [
    " ### Bonus: Test which layers are most important for the continuation.\n",
    " We use all the layers, but maybe some are more important than others? Try to change which layers are selected or sweep through them.\n",
    "\n"
   ]
  },
  {
   "cell_type": "code",
   "execution_count": null,
   "metadata": {},
   "outputs": [
    {
     "name": "stdout",
     "output_type": "stream",
     "text": [
      "Model has 28 layers\n",
      "=== TESTING PARAGRAPH 1 ===\n",
      "Testing configuration: All Layers\n"
     ]
    },
    {
     "name": "stderr",
     "output_type": "stream",
     "text": [
      "100%|██████████| 30/30 [00:01<00:00, 19.26it/s]\n"
     ]
    },
    {
     "name": "stdout",
     "output_type": "stream",
     "text": [
      "  Mean similarity: 0.231\n",
      "  Std similarity: 0.096\n",
      "Testing configuration: Early Layers (0-25%)\n"
     ]
    },
    {
     "name": "stderr",
     "output_type": "stream",
     "text": [
      "100%|██████████| 30/30 [00:01<00:00, 19.25it/s]\n"
     ]
    },
    {
     "name": "stdout",
     "output_type": "stream",
     "text": [
      "  Mean similarity: 0.083\n",
      "  Std similarity: 0.055\n",
      "Testing configuration: Middle Layers (25-75%)\n"
     ]
    },
    {
     "name": "stderr",
     "output_type": "stream",
     "text": [
      "100%|██████████| 30/30 [00:01<00:00, 19.20it/s]\n"
     ]
    },
    {
     "name": "stdout",
     "output_type": "stream",
     "text": [
      "  Mean similarity: 0.480\n",
      "  Std similarity: 0.133\n",
      "Testing configuration: Late Layers (75-100%)\n"
     ]
    },
    {
     "name": "stderr",
     "output_type": "stream",
     "text": [
      "100%|██████████| 30/30 [00:01<00:00, 19.22it/s]\n"
     ]
    },
    {
     "name": "stdout",
     "output_type": "stream",
     "text": [
      "  Mean similarity: 0.185\n",
      "  Std similarity: 0.123\n",
      "Testing configuration: Every Other Layer\n"
     ]
    },
    {
     "name": "stderr",
     "output_type": "stream",
     "text": [
      "100%|██████████| 30/30 [00:01<00:00, 19.17it/s]\n"
     ]
    },
    {
     "name": "stdout",
     "output_type": "stream",
     "text": [
      "  Mean similarity: 0.337\n",
      "  Std similarity: 0.161\n",
      "Testing configuration: First & Last 3 Layers\n"
     ]
    },
    {
     "name": "stderr",
     "output_type": "stream",
     "text": [
      "100%|██████████| 30/30 [00:01<00:00, 19.24it/s]\n"
     ]
    },
    {
     "name": "stdout",
     "output_type": "stream",
     "text": [
      "  Mean similarity: 0.100\n",
      "  Std similarity: 0.048\n",
      "Sweeping through individual layers...\n",
      "Testing layer 0\n"
     ]
    },
    {
     "name": "stderr",
     "output_type": "stream",
     "text": [
      "100%|██████████| 30/30 [00:01<00:00, 19.63it/s]\n"
     ]
    },
    {
     "name": "stdout",
     "output_type": "stream",
     "text": [
      "  Layer 0 mean similarity: 0.039\n",
      "Testing layer 1\n"
     ]
    },
    {
     "name": "stderr",
     "output_type": "stream",
     "text": [
      "100%|██████████| 30/30 [00:01<00:00, 19.66it/s]\n"
     ]
    },
    {
     "name": "stdout",
     "output_type": "stream",
     "text": [
      "  Layer 1 mean similarity: -0.004\n",
      "Testing layer 2\n"
     ]
    },
    {
     "name": "stderr",
     "output_type": "stream",
     "text": [
      "100%|██████████| 30/30 [00:01<00:00, 19.35it/s]\n"
     ]
    },
    {
     "name": "stdout",
     "output_type": "stream",
     "text": [
      "  Layer 2 mean similarity: 0.038\n",
      "Testing layer 3\n"
     ]
    },
    {
     "name": "stderr",
     "output_type": "stream",
     "text": [
      "100%|██████████| 30/30 [00:01<00:00, 19.58it/s]\n"
     ]
    },
    {
     "name": "stdout",
     "output_type": "stream",
     "text": [
      "  Layer 3 mean similarity: 0.048\n",
      "Testing layer 4\n"
     ]
    },
    {
     "name": "stderr",
     "output_type": "stream",
     "text": [
      "100%|██████████| 30/30 [00:01<00:00, 19.58it/s]\n"
     ]
    },
    {
     "name": "stdout",
     "output_type": "stream",
     "text": [
      "  Layer 4 mean similarity: 0.115\n",
      "Testing layer 5\n"
     ]
    },
    {
     "name": "stderr",
     "output_type": "stream",
     "text": [
      "100%|██████████| 30/30 [00:01<00:00, 19.57it/s]\n"
     ]
    },
    {
     "name": "stdout",
     "output_type": "stream",
     "text": [
      "  Layer 5 mean similarity: 0.032\n",
      "Testing layer 6\n"
     ]
    },
    {
     "name": "stderr",
     "output_type": "stream",
     "text": [
      "100%|██████████| 30/30 [00:01<00:00, 19.57it/s]\n"
     ]
    },
    {
     "name": "stdout",
     "output_type": "stream",
     "text": [
      "  Layer 6 mean similarity: 0.044\n",
      "Testing layer 7\n"
     ]
    },
    {
     "name": "stderr",
     "output_type": "stream",
     "text": [
      "100%|██████████| 30/30 [00:01<00:00, 19.57it/s]\n"
     ]
    },
    {
     "name": "stdout",
     "output_type": "stream",
     "text": [
      "  Layer 7 mean similarity: 0.044\n",
      "Testing layer 8\n"
     ]
    },
    {
     "name": "stderr",
     "output_type": "stream",
     "text": [
      "100%|██████████| 30/30 [00:01<00:00, 19.55it/s]\n"
     ]
    },
    {
     "name": "stdout",
     "output_type": "stream",
     "text": [
      "  Layer 8 mean similarity: 0.149\n",
      "Testing layer 9\n"
     ]
    },
    {
     "name": "stderr",
     "output_type": "stream",
     "text": [
      "100%|██████████| 30/30 [00:01<00:00, 19.52it/s]\n"
     ]
    },
    {
     "name": "stdout",
     "output_type": "stream",
     "text": [
      "  Layer 9 mean similarity: -0.019\n",
      "Testing layer 10\n"
     ]
    },
    {
     "name": "stderr",
     "output_type": "stream",
     "text": [
      "100%|██████████| 30/30 [00:01<00:00, 19.51it/s]\n"
     ]
    },
    {
     "name": "stdout",
     "output_type": "stream",
     "text": [
      "  Layer 10 mean similarity: 0.011\n",
      "Testing layer 11\n"
     ]
    },
    {
     "name": "stderr",
     "output_type": "stream",
     "text": [
      "100%|██████████| 30/30 [00:01<00:00, 19.47it/s]\n"
     ]
    },
    {
     "name": "stdout",
     "output_type": "stream",
     "text": [
      "  Layer 11 mean similarity: 0.090\n",
      "Testing layer 12\n"
     ]
    },
    {
     "name": "stderr",
     "output_type": "stream",
     "text": [
      "100%|██████████| 30/30 [00:01<00:00, 19.46it/s]\n"
     ]
    },
    {
     "name": "stdout",
     "output_type": "stream",
     "text": [
      "  Layer 12 mean similarity: 0.036\n",
      "Testing layer 13\n"
     ]
    },
    {
     "name": "stderr",
     "output_type": "stream",
     "text": [
      "100%|██████████| 30/30 [00:01<00:00, 19.42it/s]\n"
     ]
    },
    {
     "name": "stdout",
     "output_type": "stream",
     "text": [
      "  Layer 13 mean similarity: 0.094\n",
      "Testing layer 14\n"
     ]
    },
    {
     "name": "stderr",
     "output_type": "stream",
     "text": [
      "100%|██████████| 30/30 [00:01<00:00, 19.43it/s]\n"
     ]
    },
    {
     "name": "stdout",
     "output_type": "stream",
     "text": [
      "  Layer 14 mean similarity: 0.339\n",
      "Testing layer 15\n"
     ]
    },
    {
     "name": "stderr",
     "output_type": "stream",
     "text": [
      "100%|██████████| 30/30 [00:01<00:00, 19.40it/s]\n"
     ]
    },
    {
     "name": "stdout",
     "output_type": "stream",
     "text": [
      "  Layer 15 mean similarity: 0.209\n",
      "Testing layer 16\n"
     ]
    },
    {
     "name": "stderr",
     "output_type": "stream",
     "text": [
      "100%|██████████| 30/30 [00:01<00:00, 19.37it/s]\n"
     ]
    },
    {
     "name": "stdout",
     "output_type": "stream",
     "text": [
      "  Layer 16 mean similarity: 0.057\n",
      "Testing layer 17\n"
     ]
    },
    {
     "name": "stderr",
     "output_type": "stream",
     "text": [
      "100%|██████████| 30/30 [00:01<00:00, 19.28it/s]\n"
     ]
    },
    {
     "name": "stdout",
     "output_type": "stream",
     "text": [
      "  Layer 17 mean similarity: 0.039\n",
      "Testing layer 18\n"
     ]
    },
    {
     "name": "stderr",
     "output_type": "stream",
     "text": [
      "100%|██████████| 30/30 [00:01<00:00, 19.27it/s]\n"
     ]
    },
    {
     "name": "stdout",
     "output_type": "stream",
     "text": [
      "  Layer 18 mean similarity: 0.023\n",
      "Testing layer 19\n"
     ]
    },
    {
     "name": "stderr",
     "output_type": "stream",
     "text": [
      "100%|██████████| 30/30 [00:01<00:00, 19.26it/s]\n"
     ]
    },
    {
     "name": "stdout",
     "output_type": "stream",
     "text": [
      "  Layer 19 mean similarity: 0.041\n",
      "Testing layer 20\n"
     ]
    },
    {
     "name": "stderr",
     "output_type": "stream",
     "text": [
      "100%|██████████| 30/30 [00:01<00:00, 19.23it/s]\n"
     ]
    },
    {
     "name": "stdout",
     "output_type": "stream",
     "text": [
      "  Layer 20 mean similarity: 0.005\n",
      "Testing layer 21\n"
     ]
    },
    {
     "name": "stderr",
     "output_type": "stream",
     "text": [
      "100%|██████████| 30/30 [00:01<00:00, 19.15it/s]\n"
     ]
    },
    {
     "name": "stdout",
     "output_type": "stream",
     "text": [
      "  Layer 21 mean similarity: 0.084\n",
      "Testing layer 22\n"
     ]
    },
    {
     "name": "stderr",
     "output_type": "stream",
     "text": [
      "100%|██████████| 30/30 [00:01<00:00, 19.22it/s]\n"
     ]
    },
    {
     "name": "stdout",
     "output_type": "stream",
     "text": [
      "  Layer 22 mean similarity: 0.037\n",
      "Testing layer 23\n"
     ]
    },
    {
     "name": "stderr",
     "output_type": "stream",
     "text": [
      "100%|██████████| 30/30 [00:01<00:00, 19.20it/s]\n"
     ]
    },
    {
     "name": "stdout",
     "output_type": "stream",
     "text": [
      "  Layer 23 mean similarity: 0.246\n",
      "Testing layer 24\n"
     ]
    },
    {
     "name": "stderr",
     "output_type": "stream",
     "text": [
      "100%|██████████| 30/30 [00:01<00:00, 19.18it/s]\n"
     ]
    },
    {
     "name": "stdout",
     "output_type": "stream",
     "text": [
      "  Layer 24 mean similarity: 0.098\n",
      "Testing layer 25\n"
     ]
    },
    {
     "name": "stderr",
     "output_type": "stream",
     "text": [
      "100%|██████████| 30/30 [00:01<00:00, 19.11it/s]\n"
     ]
    },
    {
     "name": "stdout",
     "output_type": "stream",
     "text": [
      "  Layer 25 mean similarity: 0.067\n",
      "Testing layer 26\n"
     ]
    },
    {
     "name": "stderr",
     "output_type": "stream",
     "text": [
      "100%|██████████| 30/30 [00:01<00:00, 19.14it/s]\n"
     ]
    },
    {
     "name": "stdout",
     "output_type": "stream",
     "text": [
      "  Layer 26 mean similarity: 0.024\n",
      "Testing layer 27\n"
     ]
    },
    {
     "name": "stderr",
     "output_type": "stream",
     "text": [
      "100%|██████████| 30/30 [00:01<00:00, 19.18it/s]\n"
     ]
    },
    {
     "name": "stdout",
     "output_type": "stream",
     "text": [
      "  Layer 27 mean similarity: 0.035\n",
      "\n",
      "=== TESTING PARAGRAPH 2 ===\n",
      "Testing configuration: All Layers\n"
     ]
    },
    {
     "name": "stderr",
     "output_type": "stream",
     "text": [
      "100%|██████████| 30/30 [00:01<00:00, 18.64it/s]\n"
     ]
    },
    {
     "name": "stdout",
     "output_type": "stream",
     "text": [
      "  Mean similarity: 0.465\n",
      "  Std similarity: 0.090\n",
      "Testing configuration: Early Layers (0-25%)\n"
     ]
    },
    {
     "name": "stderr",
     "output_type": "stream",
     "text": [
      "100%|██████████| 30/30 [00:01<00:00, 18.63it/s]\n"
     ]
    },
    {
     "name": "stdout",
     "output_type": "stream",
     "text": [
      "  Mean similarity: 0.065\n",
      "  Std similarity: 0.061\n",
      "Testing configuration: Middle Layers (25-75%)\n"
     ]
    },
    {
     "name": "stderr",
     "output_type": "stream",
     "text": [
      "100%|██████████| 30/30 [00:01<00:00, 18.66it/s]\n"
     ]
    },
    {
     "name": "stdout",
     "output_type": "stream",
     "text": [
      "  Mean similarity: 0.408\n",
      "  Std similarity: 0.086\n",
      "Testing configuration: Late Layers (75-100%)\n"
     ]
    },
    {
     "name": "stderr",
     "output_type": "stream",
     "text": [
      "100%|██████████| 30/30 [00:01<00:00, 18.55it/s]\n"
     ]
    },
    {
     "name": "stdout",
     "output_type": "stream",
     "text": [
      "  Mean similarity: 0.107\n",
      "  Std similarity: 0.124\n",
      "Testing configuration: Every Other Layer\n"
     ]
    },
    {
     "name": "stderr",
     "output_type": "stream",
     "text": [
      "100%|██████████| 30/30 [00:01<00:00, 18.50it/s]\n"
     ]
    },
    {
     "name": "stdout",
     "output_type": "stream",
     "text": [
      "  Mean similarity: 0.453\n",
      "  Std similarity: 0.093\n",
      "Testing configuration: First & Last 3 Layers\n"
     ]
    },
    {
     "name": "stderr",
     "output_type": "stream",
     "text": [
      "100%|██████████| 30/30 [00:01<00:00, 18.53it/s]\n"
     ]
    },
    {
     "name": "stdout",
     "output_type": "stream",
     "text": [
      "  Mean similarity: 0.112\n",
      "  Std similarity: 0.116\n",
      "Sweeping through individual layers...\n",
      "Testing layer 0\n"
     ]
    },
    {
     "name": "stderr",
     "output_type": "stream",
     "text": [
      "100%|██████████| 30/30 [00:01<00:00, 19.08it/s]\n"
     ]
    },
    {
     "name": "stdout",
     "output_type": "stream",
     "text": [
      "  Layer 0 mean similarity: 0.039\n",
      "Testing layer 1\n"
     ]
    },
    {
     "name": "stderr",
     "output_type": "stream",
     "text": [
      "100%|██████████| 30/30 [00:01<00:00, 19.10it/s]\n"
     ]
    },
    {
     "name": "stdout",
     "output_type": "stream",
     "text": [
      "  Layer 1 mean similarity: 0.014\n",
      "Testing layer 2\n"
     ]
    },
    {
     "name": "stderr",
     "output_type": "stream",
     "text": [
      "100%|██████████| 30/30 [00:01<00:00, 19.11it/s]\n"
     ]
    },
    {
     "name": "stdout",
     "output_type": "stream",
     "text": [
      "  Layer 2 mean similarity: 0.090\n",
      "Testing layer 3\n"
     ]
    },
    {
     "name": "stderr",
     "output_type": "stream",
     "text": [
      "100%|██████████| 30/30 [00:01<00:00, 19.09it/s]\n"
     ]
    },
    {
     "name": "stdout",
     "output_type": "stream",
     "text": [
      "  Layer 3 mean similarity: 0.010\n",
      "Testing layer 4\n"
     ]
    },
    {
     "name": "stderr",
     "output_type": "stream",
     "text": [
      "100%|██████████| 30/30 [00:01<00:00, 19.11it/s]\n"
     ]
    },
    {
     "name": "stdout",
     "output_type": "stream",
     "text": [
      "  Layer 4 mean similarity: 0.204\n",
      "Testing layer 5\n"
     ]
    },
    {
     "name": "stderr",
     "output_type": "stream",
     "text": [
      "100%|██████████| 30/30 [00:01<00:00, 19.10it/s]\n"
     ]
    },
    {
     "name": "stdout",
     "output_type": "stream",
     "text": [
      "  Layer 5 mean similarity: 0.092\n",
      "Testing layer 6\n"
     ]
    },
    {
     "name": "stderr",
     "output_type": "stream",
     "text": [
      "100%|██████████| 30/30 [00:01<00:00, 19.06it/s]\n"
     ]
    },
    {
     "name": "stdout",
     "output_type": "stream",
     "text": [
      "  Layer 6 mean similarity: 0.073\n",
      "Testing layer 7\n"
     ]
    },
    {
     "name": "stderr",
     "output_type": "stream",
     "text": [
      "100%|██████████| 30/30 [00:01<00:00, 18.98it/s]\n"
     ]
    },
    {
     "name": "stdout",
     "output_type": "stream",
     "text": [
      "  Layer 7 mean similarity: 0.057\n",
      "Testing layer 8\n"
     ]
    },
    {
     "name": "stderr",
     "output_type": "stream",
     "text": [
      "100%|██████████| 30/30 [00:01<00:00, 18.93it/s]\n"
     ]
    },
    {
     "name": "stdout",
     "output_type": "stream",
     "text": [
      "  Layer 8 mean similarity: 0.122\n",
      "Testing layer 9\n"
     ]
    },
    {
     "name": "stderr",
     "output_type": "stream",
     "text": [
      "100%|██████████| 30/30 [00:01<00:00, 18.88it/s]\n"
     ]
    },
    {
     "name": "stdout",
     "output_type": "stream",
     "text": [
      "  Layer 9 mean similarity: 0.074\n",
      "Testing layer 10\n"
     ]
    },
    {
     "name": "stderr",
     "output_type": "stream",
     "text": [
      "100%|██████████| 30/30 [00:01<00:00, 18.90it/s]\n"
     ]
    },
    {
     "name": "stdout",
     "output_type": "stream",
     "text": [
      "  Layer 10 mean similarity: 0.083\n",
      "Testing layer 11\n"
     ]
    },
    {
     "name": "stderr",
     "output_type": "stream",
     "text": [
      "100%|██████████| 30/30 [00:01<00:00, 18.75it/s]\n"
     ]
    },
    {
     "name": "stdout",
     "output_type": "stream",
     "text": [
      "  Layer 11 mean similarity: 0.130\n",
      "Testing layer 12\n"
     ]
    },
    {
     "name": "stderr",
     "output_type": "stream",
     "text": [
      "100%|██████████| 30/30 [00:01<00:00, 18.75it/s]\n"
     ]
    },
    {
     "name": "stdout",
     "output_type": "stream",
     "text": [
      "  Layer 12 mean similarity: 0.011\n",
      "Testing layer 13\n"
     ]
    },
    {
     "name": "stderr",
     "output_type": "stream",
     "text": [
      "100%|██████████| 30/30 [00:01<00:00, 18.75it/s]\n"
     ]
    },
    {
     "name": "stdout",
     "output_type": "stream",
     "text": [
      "  Layer 13 mean similarity: 0.148\n",
      "Testing layer 14\n"
     ]
    },
    {
     "name": "stderr",
     "output_type": "stream",
     "text": [
      "100%|██████████| 30/30 [00:01<00:00, 18.79it/s]\n"
     ]
    },
    {
     "name": "stdout",
     "output_type": "stream",
     "text": [
      "  Layer 14 mean similarity: 0.205\n",
      "Testing layer 15\n"
     ]
    },
    {
     "name": "stderr",
     "output_type": "stream",
     "text": [
      "100%|██████████| 30/30 [00:01<00:00, 18.81it/s]\n"
     ]
    },
    {
     "name": "stdout",
     "output_type": "stream",
     "text": [
      "  Layer 15 mean similarity: 0.240\n",
      "Testing layer 16\n"
     ]
    },
    {
     "name": "stderr",
     "output_type": "stream",
     "text": [
      "100%|██████████| 30/30 [00:01<00:00, 18.80it/s]\n"
     ]
    },
    {
     "name": "stdout",
     "output_type": "stream",
     "text": [
      "  Layer 16 mean similarity: 0.226\n",
      "Testing layer 17\n"
     ]
    },
    {
     "name": "stderr",
     "output_type": "stream",
     "text": [
      "100%|██████████| 30/30 [00:01<00:00, 18.76it/s]\n"
     ]
    },
    {
     "name": "stdout",
     "output_type": "stream",
     "text": [
      "  Layer 17 mean similarity: 0.225\n",
      "Testing layer 18\n"
     ]
    },
    {
     "name": "stderr",
     "output_type": "stream",
     "text": [
      "100%|██████████| 30/30 [00:01<00:00, 18.79it/s]\n"
     ]
    },
    {
     "name": "stdout",
     "output_type": "stream",
     "text": [
      "  Layer 18 mean similarity: 0.182\n",
      "Testing layer 19\n"
     ]
    },
    {
     "name": "stderr",
     "output_type": "stream",
     "text": [
      "100%|██████████| 30/30 [00:01<00:00, 18.84it/s]\n"
     ]
    },
    {
     "name": "stdout",
     "output_type": "stream",
     "text": [
      "  Layer 19 mean similarity: 0.162\n",
      "Testing layer 20\n"
     ]
    },
    {
     "name": "stderr",
     "output_type": "stream",
     "text": [
      "100%|██████████| 30/30 [00:01<00:00, 18.83it/s]\n"
     ]
    },
    {
     "name": "stdout",
     "output_type": "stream",
     "text": [
      "  Layer 20 mean similarity: 0.180\n",
      "Testing layer 21\n"
     ]
    },
    {
     "name": "stderr",
     "output_type": "stream",
     "text": [
      "100%|██████████| 30/30 [00:01<00:00, 18.85it/s]\n"
     ]
    },
    {
     "name": "stdout",
     "output_type": "stream",
     "text": [
      "  Layer 21 mean similarity: 0.079\n",
      "Testing layer 22\n"
     ]
    },
    {
     "name": "stderr",
     "output_type": "stream",
     "text": [
      "100%|██████████| 30/30 [00:01<00:00, 18.85it/s]\n"
     ]
    },
    {
     "name": "stdout",
     "output_type": "stream",
     "text": [
      "  Layer 22 mean similarity: 0.030\n",
      "Testing layer 23\n"
     ]
    },
    {
     "name": "stderr",
     "output_type": "stream",
     "text": [
      "100%|██████████| 30/30 [00:01<00:00, 18.76it/s]\n"
     ]
    },
    {
     "name": "stdout",
     "output_type": "stream",
     "text": [
      "  Layer 23 mean similarity: 0.018\n",
      "Testing layer 24\n"
     ]
    },
    {
     "name": "stderr",
     "output_type": "stream",
     "text": [
      "100%|██████████| 30/30 [00:01<00:00, 18.75it/s]\n"
     ]
    },
    {
     "name": "stdout",
     "output_type": "stream",
     "text": [
      "  Layer 24 mean similarity: 0.094\n",
      "Testing layer 25\n"
     ]
    },
    {
     "name": "stderr",
     "output_type": "stream",
     "text": [
      "100%|██████████| 30/30 [00:01<00:00, 18.89it/s]\n"
     ]
    },
    {
     "name": "stdout",
     "output_type": "stream",
     "text": [
      "  Layer 25 mean similarity: 0.261\n",
      "Testing layer 26\n"
     ]
    },
    {
     "name": "stderr",
     "output_type": "stream",
     "text": [
      "100%|██████████| 30/30 [00:01<00:00, 18.88it/s]\n"
     ]
    },
    {
     "name": "stdout",
     "output_type": "stream",
     "text": [
      "  Layer 26 mean similarity: 0.187\n",
      "Testing layer 27\n"
     ]
    },
    {
     "name": "stderr",
     "output_type": "stream",
     "text": [
      "100%|██████████| 30/30 [00:01<00:00, 18.84it/s]\n",
      "/tmp/ipykernel_63975/624099138.py:194: MatplotlibDeprecationWarning: The 'labels' parameter of boxplot() has been renamed 'tick_labels' since Matplotlib 3.9; support for the old name will be dropped in 3.11.\n",
      "  bp1 = ax1.boxplot(group_data, labels=group_names)\n"
     ]
    },
    {
     "name": "stdout",
     "output_type": "stream",
     "text": [
      "  Layer 27 mean similarity: 0.088\n",
      "\n",
      "=== PARAGRAPH 1 RESULTS ===\n"
     ]
    },
    {
     "data": {
      "image/png": "[encoded data removed]",
      "text/plain": [
       "<Figure size 1500x600 with 2 Axes>"
      ]
     },
     "metadata": {},
     "output_type": "display_data"
    },
    {
     "name": "stderr",
     "output_type": "stream",
     "text": [
      "/tmp/ipykernel_63975/624099138.py:194: MatplotlibDeprecationWarning: The 'labels' parameter of boxplot() has been renamed 'tick_labels' since Matplotlib 3.9; support for the old name will be dropped in 3.11.\n",
      "  bp1 = ax1.boxplot(group_data, labels=group_names)\n"
     ]
    },
    {
     "name": "stdout",
     "output_type": "stream",
     "text": [
      "\n",
      "=== LAYER IMPORTANCE ANALYSIS SUMMARY ===\n",
      "\n",
      "Group Configuration Results:\n",
      "  All Layers: 0.231 ± 0.096\n",
      "  Early Layers (0-25%): 0.083 ± 0.055\n",
      "  Middle Layers (25-75%): 0.480 ± 0.133\n",
      "  Late Layers (75-100%): 0.185 ± 0.123\n",
      "  Every Other Layer: 0.337 ± 0.161\n",
      "  First & Last 3 Layers: 0.100 ± 0.048\n",
      "\n",
      "Most important individual layers (top 5):\n",
      "  Layer 14: 0.339\n",
      "  Layer 23: 0.246\n",
      "  Layer 15: 0.209\n",
      "  Layer 8: 0.149\n",
      "  Layer 4: 0.115\n",
      "\n",
      "=== PARAGRAPH 2 RESULTS ===\n"
     ]
    },
    {
     "data": {
      "image/png": "[encoded data removed]",
      "text/plain": [
       "<Figure size 1500x600 with 2 Axes>"
      ]
     },
     "metadata": {},
     "output_type": "display_data"
    },
    {
     "name": "stdout",
     "output_type": "stream",
     "text": [
      "\n",
      "=== LAYER IMPORTANCE ANALYSIS SUMMARY ===\n",
      "\n",
      "Group Configuration Results:\n",
      "  All Layers: 0.465 ± 0.090\n",
      "  Early Layers (0-25%): 0.065 ± 0.061\n",
      "  Middle Layers (25-75%): 0.408 ± 0.086\n",
      "  Late Layers (75-100%): 0.107 ± 0.124\n",
      "  Every Other Layer: 0.453 ± 0.093\n",
      "  First & Last 3 Layers: 0.112 ± 0.116\n",
      "\n",
      "Most important individual layers (top 5):\n",
      "  Layer 25: 0.261\n",
      "  Layer 15: 0.240\n",
      "  Layer 16: 0.226\n",
      "  Layer 17: 0.225\n",
      "  Layer 14: 0.205\n"
     ]
    }
   ],
   "source": [
    "# Layer Importance Analysis for Activation Transfer\n",
    "# This code addresses the bonus question about testing which layers are most important\n",
    "\n",
    "import numpy as np\n",
    "import matplotlib.pyplot as plt\n",
    "from typing import List, Dict, Tuple\n",
    "import torch\n",
    "\n",
    "class LayerActStore:\n",
    "    def __init__(self, model: HookedTransformer, layer_indices: List[int] = None):\n",
    "        self.act_store = {}\n",
    "        self.act_seen = set()\n",
    "        self.model = model\n",
    "        \n",
    "        # Allow specifying which layers to use\n",
    "        if layer_indices is None:\n",
    "            layer_indices = range(model.cfg.n_layers)\n",
    "        \n",
    "        chosen_hooks = ['hook_resid_pre', 'hook_resid_mid']\n",
    "        self.chosen_hook_list = \\\n",
    "            [f'blocks.{i}.{h}' for h in chosen_hooks for i in layer_indices]\n",
    "        self.modify_scaling_factor = 1.0\n",
    "        self.modify_hook_token_idx = -1\n",
    "\n",
    "    def store_hook(self, act, hook):\n",
    "        \"\"\"Store the activations for the given hook.\"\"\"\n",
    "        self.act_store[hook.name] = act.clone()\n",
    "        return act\n",
    "        \n",
    "    def modify_hook(self, act, hook):\n",
    "        \"\"\"Modify the activations for the given hook at modify_hook_token_idx.\"\"\"\n",
    "        if hook.name in self.act_seen:\n",
    "            return act\n",
    "        self.act_seen.add(hook.name)\n",
    "        \n",
    "        src_act = self.act_store[hook.name]\n",
    "        act[:, self.modify_hook_token_idx, :] = src_act[:, -1, :] * self.modify_scaling_factor\n",
    "        return act\n",
    "\n",
    "    def modify_hook_list(self):\n",
    "        \"\"\"Return a list of hooks to modify, and reset the act_seen set.\"\"\"\n",
    "        self.act_seen = set()\n",
    "        return [(hook, self.modify_hook) for hook in self.chosen_hook_list]\n",
    "\n",
    "    def store_hook_list(self):\n",
    "        \"\"\"Return a list of hooks to store.\"\"\"\n",
    "        return [(hook, self.store_hook) for hook in self.chosen_hook_list]\n",
    "\n",
    "def transfer_activations_with_layers(tokens: torch.Tensor, layer_indices: List[int], \n",
    "                                   num_copies: int = 10, num_tokens: int = 30):\n",
    "    \"\"\"\n",
    "    Transfer activations using only specified layers.\n",
    "    \"\"\"\n",
    "    act_store = LayerActStore(model, layer_indices)\n",
    "    \n",
    "    # Save original activations\n",
    "    with model.hooks(fwd_hooks=act_store.store_hook_list()):\n",
    "        _ = model(tokens)\n",
    "\n",
    "    new_prompt = \"\\n\\n\"\n",
    "    new_toks = model.to_tokens([new_prompt for _ in range(num_copies)])\n",
    "    \n",
    "    # Generate with modified activations\n",
    "    with model.hooks(fwd_hooks=act_store.modify_hook_list()):\n",
    "        new_gen = model.generate(new_toks, max_new_tokens=num_tokens, \n",
    "                                do_sample=True, temperature=0.4)\n",
    "        \n",
    "    return new_gen\n",
    "\n",
    "def test_layer_importance(prompt_tokens: torch.Tensor, original_text: str, \n",
    "                         sentence_model, test_configs: List[Dict]):\n",
    "    \"\"\"\n",
    "    Test different layer configurations and return similarity scores.\n",
    "    \n",
    "    Args:\n",
    "        prompt_tokens: Input tokens\n",
    "        original_text: Original text for comparison\n",
    "        sentence_model: Sentence transformer model\n",
    "        test_configs: List of dicts with 'name' and 'layers' keys\n",
    "    \n",
    "    Returns:\n",
    "        Dictionary mapping config names to similarity scores\n",
    "    \"\"\"\n",
    "    results = {}\n",
    "    \n",
    "    for config in test_configs:\n",
    "        print(f\"Testing configuration: {config['name']}\")\n",
    "        \n",
    "        # Generate continuations with this layer configuration\n",
    "        continued_tokens = transfer_activations_with_layers(\n",
    "            prompt_tokens, config['layers'], num_copies=5, num_tokens=30\n",
    "        )\n",
    "        \n",
    "        # Calculate similarities\n",
    "        similarities = []\n",
    "        for cont_tokens in continued_tokens:\n",
    "            cont_text = \"\".join(model.to_str_tokens(cont_tokens))\n",
    "            \n",
    "            if original_text and cont_text:\n",
    "                vec1 = sentence_model.encode(original_text)\n",
    "                vec2 = sentence_model.encode(cont_text)\n",
    "                sim = np.dot(vec1, vec2) / (np.linalg.norm(vec1) * np.linalg.norm(vec2))\n",
    "                similarities.append(sim)\n",
    "        \n",
    "        results[config['name']] = similarities\n",
    "        print(f\"  Mean similarity: {np.mean(similarities):.3f}\")\n",
    "        print(f\"  Std similarity: {np.std(similarities):.3f}\")\n",
    "    \n",
    "    return results\n",
    "\n",
    "# Test configurations to try\n",
    "def generate_test_configs(n_layers: int) -> List[Dict]:\n",
    "    \"\"\"Generate different layer configurations to test.\"\"\"\n",
    "    configs = []\n",
    "    \n",
    "    # All layers (baseline)\n",
    "    configs.append({\n",
    "        'name': 'All Layers',\n",
    "        'layers': list(range(n_layers))\n",
    "    })\n",
    "    \n",
    "    # Early layers only\n",
    "    configs.append({\n",
    "        'name': 'Early Layers (0-25%)',\n",
    "        'layers': list(range(0, n_layers // 4))\n",
    "    })\n",
    "    \n",
    "    # Middle layers only\n",
    "    configs.append({\n",
    "        'name': 'Middle Layers (25-75%)',\n",
    "        'layers': list(range(n_layers // 4, 3 * n_layers // 4))\n",
    "    })\n",
    "    \n",
    "    # Late layers only\n",
    "    configs.append({\n",
    "        'name': 'Late Layers (75-100%)',\n",
    "        'layers': list(range(3 * n_layers // 4, n_layers))\n",
    "    })\n",
    "    \n",
    "    # Every other layer\n",
    "    configs.append({\n",
    "        'name': 'Every Other Layer',\n",
    "        'layers': list(range(0, n_layers, 2))\n",
    "    })\n",
    "    \n",
    "    # Only first and last few layers\n",
    "    configs.append({\n",
    "        'name': 'First & Last 3 Layers',\n",
    "        'layers': list(range(0, 3)) + list(range(n_layers - 3, n_layers))\n",
    "    })\n",
    "    \n",
    "    return configs\n",
    "\n",
    "def sweep_individual_layers(prompt_tokens: torch.Tensor, original_text: str, \n",
    "                           sentence_model, n_layers: int) -> Dict[int, List[float]]:\n",
    "    \"\"\"\n",
    "    Sweep through individual layers to see which are most important.\n",
    "    \"\"\"\n",
    "    print(\"Sweeping through individual layers...\")\n",
    "    individual_results = {}\n",
    "    \n",
    "    for layer_idx in range(n_layers):\n",
    "        print(f\"Testing layer {layer_idx}\")\n",
    "        \n",
    "        continued_tokens = transfer_activations_with_layers(\n",
    "            prompt_tokens, [layer_idx], num_copies=3, num_tokens=30\n",
    "        )\n",
    "        \n",
    "        similarities = []\n",
    "        for cont_tokens in continued_tokens:\n",
    "            cont_text = \"\".join(model.to_str_tokens(cont_tokens))\n",
    "            \n",
    "            if original_text and cont_text:\n",
    "                vec1 = sentence_model.encode(original_text)\n",
    "                vec2 = sentence_model.encode(cont_text)\n",
    "                sim = np.dot(vec1, vec2) / (np.linalg.norm(vec1) * np.linalg.norm(vec2))\n",
    "                similarities.append(sim)\n",
    "        \n",
    "        individual_results[layer_idx] = similarities\n",
    "        print(f\"  Layer {layer_idx} mean similarity: {np.mean(similarities):.3f}\")\n",
    "    \n",
    "    return individual_results\n",
    "\n",
    "def plot_layer_analysis_results(group_results: Dict, individual_results: Dict):\n",
    "    \"\"\"\n",
    "    Create visualizations for the layer analysis results.\n",
    "    \"\"\"\n",
    "    fig, (ax1, ax2) = plt.subplots(1, 2, figsize=(15, 6))\n",
    "    \n",
    "    # Plot 1: Group configurations\n",
    "    group_names = list(group_results.keys())\n",
    "    group_data = [group_results[name] for name in group_names]\n",
    "    \n",
    "    bp1 = ax1.boxplot(group_data, labels=group_names)\n",
    "    ax1.set_ylabel('Cosine Similarity')\n",
    "    ax1.set_title('Layer Group Configurations')\n",
    "    ax1.tick_params(axis='x', rotation=45)\n",
    "    \n",
    "    # Plot 2: Individual layer sweep\n",
    "    layers = sorted(individual_results.keys())\n",
    "    layer_means = [np.mean(individual_results[layer]) for layer in layers]\n",
    "    layer_stds = [np.std(individual_results[layer]) for layer in layers]\n",
    "    \n",
    "    ax2.errorbar(layers, layer_means, yerr=layer_stds, marker='o', capsize=3)\n",
    "    ax2.set_xlabel('Layer Index')\n",
    "    ax2.set_ylabel('Mean Cosine Similarity')\n",
    "    ax2.set_title('Individual Layer Importance')\n",
    "    ax2.grid(True, alpha=0.3)\n",
    "    \n",
    "    plt.tight_layout()\n",
    "    plt.show()\n",
    "    \n",
    "    # Print summary statistics\n",
    "    print(\"\\n=== LAYER IMPORTANCE ANALYSIS SUMMARY ===\")\n",
    "    print(\"\\nGroup Configuration Results:\")\n",
    "    for name, similarities in group_results.items():\n",
    "        print(f\"  {name}: {np.mean(similarities):.3f} ± {np.std(similarities):.3f}\")\n",
    "    \n",
    "    print(f\"\\nMost important individual layers (top 5):\")\n",
    "    layer_importance = [(layer, np.mean(individual_results[layer])) \n",
    "                       for layer in individual_results.keys()]\n",
    "    layer_importance.sort(key=lambda x: x[1], reverse=True)\n",
    "    \n",
    "    for layer, score in layer_importance[:5]:\n",
    "        print(f\"  Layer {layer}: {score:.3f}\")\n",
    "\n",
    "# Example usage function\n",
    "def run_layer_importance_analysis():\n",
    "    \"\"\"\n",
    "    Main function to run the complete layer importance analysis.\n",
    "    \"\"\"\n",
    "    # Assume these are already defined from the original code\n",
    "    # prompt_tokens, par1_str, par2_str, sentence_model, model\n",
    "    \n",
    "    n_layers = model.cfg.n_layers\n",
    "    print(f\"Model has {n_layers} layers\")\n",
    "    \n",
    "    # Test different layer group configurations\n",
    "    test_configs = generate_test_configs(n_layers)\n",
    "    \n",
    "    print(\"=== TESTING PARAGRAPH 1 ===\")\n",
    "    par1_group_results = test_layer_importance(\n",
    "        prompt_tokens, par1_str, sentence_model, test_configs\n",
    "    )\n",
    "    \n",
    "    # Sweep through individual layers for paragraph 1\n",
    "    par1_individual_results = sweep_individual_layers(\n",
    "        prompt_tokens, par1_str, sentence_model, n_layers\n",
    "    )\n",
    "    \n",
    "    print(\"\\n=== TESTING PARAGRAPH 2 ===\")\n",
    "    par2_group_results = test_layer_importance(\n",
    "        prompt_with_par1, par2_str, sentence_model, test_configs\n",
    "    )\n",
    "    \n",
    "    # Sweep through individual layers for paragraph 2\n",
    "    par2_individual_results = sweep_individual_layers(\n",
    "        prompt_with_par1, par2_str, sentence_model, n_layers\n",
    "    )\n",
    "    \n",
    "    print(\"\\n=== PARAGRAPH 1 RESULTS ===\")\n",
    "    plot_layer_analysis_results(par1_group_results, par1_individual_results)\n",
    "    \n",
    "    print(\"\\n=== PARAGRAPH 2 RESULTS ===\")\n",
    "    plot_layer_analysis_results(par2_group_results, par2_individual_results)\n",
    "    \n",
    "    return {\n",
    "        'par1_group': par1_group_results,\n",
    "        'par1_individual': par1_individual_results,\n",
    "        'par2_group': par2_group_results,\n",
    "        'par2_individual': par2_individual_results\n",
    "    }\n",
    "\n",
    "# Run the analysis\n",
    "results = run_layer_importance_analysis()"
   ]
  },
  {
   "cell_type": "code",
   "execution_count": 18,
   "metadata": {},
   "outputs": [
    {
     "name": "stderr",
     "output_type": "stream",
     "text": [
      "100%|██████████| 20/20 [00:01<00:00, 19.74it/s]\n"
     ]
    },
    {
     "name": "stdout",
     "output_type": "stream",
     "text": [
      "Layer 0: 0.004\n"
     ]
    },
    {
     "name": "stderr",
     "output_type": "stream",
     "text": [
      "100%|██████████| 20/20 [00:01<00:00, 19.30it/s]\n"
     ]
    },
    {
     "name": "stdout",
     "output_type": "stream",
     "text": [
      "Layer 1: -0.008\n"
     ]
    },
    {
     "name": "stderr",
     "output_type": "stream",
     "text": [
      "100%|██████████| 20/20 [00:01<00:00, 19.64it/s]\n"
     ]
    },
    {
     "name": "stdout",
     "output_type": "stream",
     "text": [
      "Layer 2: 0.021\n"
     ]
    },
    {
     "name": "stderr",
     "output_type": "stream",
     "text": [
      "100%|██████████| 20/20 [00:01<00:00, 19.56it/s]\n"
     ]
    },
    {
     "name": "stdout",
     "output_type": "stream",
     "text": [
      "Layer 3: 0.039\n"
     ]
    },
    {
     "name": "stderr",
     "output_type": "stream",
     "text": [
      "100%|██████████| 20/20 [00:01<00:00, 19.74it/s]\n"
     ]
    },
    {
     "name": "stdout",
     "output_type": "stream",
     "text": [
      "Layer 4: 0.017\n"
     ]
    },
    {
     "name": "stderr",
     "output_type": "stream",
     "text": [
      "100%|██████████| 20/20 [00:01<00:00, 19.71it/s]\n"
     ]
    },
    {
     "name": "stdout",
     "output_type": "stream",
     "text": [
      "Layer 5: -0.003\n"
     ]
    },
    {
     "name": "stderr",
     "output_type": "stream",
     "text": [
      "100%|██████████| 20/20 [00:01<00:00, 19.71it/s]\n"
     ]
    },
    {
     "name": "stdout",
     "output_type": "stream",
     "text": [
      "Layer 6: 0.057\n"
     ]
    },
    {
     "name": "stderr",
     "output_type": "stream",
     "text": [
      "100%|██████████| 20/20 [00:01<00:00, 19.70it/s]\n"
     ]
    },
    {
     "name": "stdout",
     "output_type": "stream",
     "text": [
      "Layer 7: 0.128\n"
     ]
    },
    {
     "name": "stderr",
     "output_type": "stream",
     "text": [
      "100%|██████████| 20/20 [00:01<00:00, 19.73it/s]\n"
     ]
    },
    {
     "name": "stdout",
     "output_type": "stream",
     "text": [
      "Layer 8: 0.024\n"
     ]
    },
    {
     "name": "stderr",
     "output_type": "stream",
     "text": [
      "100%|██████████| 20/20 [00:01<00:00, 19.72it/s]\n"
     ]
    },
    {
     "name": "stdout",
     "output_type": "stream",
     "text": [
      "Layer 9: 0.089\n"
     ]
    },
    {
     "name": "stderr",
     "output_type": "stream",
     "text": [
      "100%|██████████| 20/20 [00:01<00:00, 19.70it/s]\n"
     ]
    },
    {
     "name": "stdout",
     "output_type": "stream",
     "text": [
      "Layer 10: 0.103\n"
     ]
    },
    {
     "name": "stderr",
     "output_type": "stream",
     "text": [
      "100%|██████████| 20/20 [00:01<00:00, 19.65it/s]\n"
     ]
    },
    {
     "name": "stdout",
     "output_type": "stream",
     "text": [
      "Layer 11: 0.110\n"
     ]
    },
    {
     "name": "stderr",
     "output_type": "stream",
     "text": [
      "100%|██████████| 20/20 [00:01<00:00, 19.69it/s]\n"
     ]
    },
    {
     "name": "stdout",
     "output_type": "stream",
     "text": [
      "Layer 12: 0.032\n"
     ]
    },
    {
     "name": "stderr",
     "output_type": "stream",
     "text": [
      "100%|██████████| 20/20 [00:01<00:00, 19.68it/s]\n"
     ]
    },
    {
     "name": "stdout",
     "output_type": "stream",
     "text": [
      "Layer 13: 0.005\n"
     ]
    },
    {
     "name": "stderr",
     "output_type": "stream",
     "text": [
      "100%|██████████| 20/20 [00:01<00:00, 19.67it/s]\n"
     ]
    },
    {
     "name": "stdout",
     "output_type": "stream",
     "text": [
      "Layer 14: 0.042\n"
     ]
    },
    {
     "name": "stderr",
     "output_type": "stream",
     "text": [
      "100%|██████████| 20/20 [00:01<00:00, 19.65it/s]\n"
     ]
    },
    {
     "name": "stdout",
     "output_type": "stream",
     "text": [
      "Layer 15: 0.120\n"
     ]
    },
    {
     "name": "stderr",
     "output_type": "stream",
     "text": [
      "100%|██████████| 20/20 [00:01<00:00, 19.59it/s]\n"
     ]
    },
    {
     "name": "stdout",
     "output_type": "stream",
     "text": [
      "Layer 16: 0.129\n"
     ]
    },
    {
     "name": "stderr",
     "output_type": "stream",
     "text": [
      "100%|██████████| 20/20 [00:01<00:00, 19.59it/s]\n"
     ]
    },
    {
     "name": "stdout",
     "output_type": "stream",
     "text": [
      "Layer 17: 0.126\n"
     ]
    },
    {
     "name": "stderr",
     "output_type": "stream",
     "text": [
      "100%|██████████| 20/20 [00:01<00:00, 19.59it/s]\n"
     ]
    },
    {
     "name": "stdout",
     "output_type": "stream",
     "text": [
      "Layer 18: 0.030\n"
     ]
    },
    {
     "name": "stderr",
     "output_type": "stream",
     "text": [
      "100%|██████████| 20/20 [00:01<00:00, 19.56it/s]\n"
     ]
    },
    {
     "name": "stdout",
     "output_type": "stream",
     "text": [
      "Layer 19: 0.059\n"
     ]
    },
    {
     "name": "stderr",
     "output_type": "stream",
     "text": [
      "100%|██████████| 20/20 [00:01<00:00, 19.56it/s]\n"
     ]
    },
    {
     "name": "stdout",
     "output_type": "stream",
     "text": [
      "Layer 20: 0.092\n"
     ]
    },
    {
     "name": "stderr",
     "output_type": "stream",
     "text": [
      "100%|██████████| 20/20 [00:01<00:00, 19.49it/s]\n"
     ]
    },
    {
     "name": "stdout",
     "output_type": "stream",
     "text": [
      "Layer 21: 0.011\n"
     ]
    },
    {
     "name": "stderr",
     "output_type": "stream",
     "text": [
      "100%|██████████| 20/20 [00:01<00:00, 19.52it/s]\n"
     ]
    },
    {
     "name": "stdout",
     "output_type": "stream",
     "text": [
      "Layer 22: 0.046\n"
     ]
    },
    {
     "name": "stderr",
     "output_type": "stream",
     "text": [
      "100%|██████████| 20/20 [00:01<00:00, 19.40it/s]\n"
     ]
    },
    {
     "name": "stdout",
     "output_type": "stream",
     "text": [
      "Layer 23: 0.021\n"
     ]
    },
    {
     "name": "stderr",
     "output_type": "stream",
     "text": [
      "100%|██████████| 20/20 [00:01<00:00, 19.33it/s]\n"
     ]
    },
    {
     "name": "stdout",
     "output_type": "stream",
     "text": [
      "Layer 24: 0.150\n"
     ]
    },
    {
     "name": "stderr",
     "output_type": "stream",
     "text": [
      "100%|██████████| 20/20 [00:01<00:00, 19.36it/s]\n"
     ]
    },
    {
     "name": "stdout",
     "output_type": "stream",
     "text": [
      "Layer 25: 0.050\n"
     ]
    },
    {
     "name": "stderr",
     "output_type": "stream",
     "text": [
      "100%|██████████| 20/20 [00:01<00:00, 19.39it/s]\n"
     ]
    },
    {
     "name": "stdout",
     "output_type": "stream",
     "text": [
      "Layer 26: 0.069\n"
     ]
    },
    {
     "name": "stderr",
     "output_type": "stream",
     "text": [
      "100%|██████████| 20/20 [00:01<00:00, 19.41it/s]\n"
     ]
    },
    {
     "name": "stdout",
     "output_type": "stream",
     "text": [
      "Layer 27: 0.058\n",
      "\n",
      "Top 5 layers: [(24, 0.14981765), (16, 0.12915741), (7, 0.12786117), (17, 0.12559608), (15, 0.11962668)]\n"
     ]
    },
    {
     "name": "stderr",
     "output_type": "stream",
     "text": [
      "100%|██████████| 20/20 [00:01<00:00, 19.42it/s]\n",
      "100%|██████████| 20/20 [00:01<00:00, 19.36it/s]\n",
      "100%|██████████| 20/20 [00:01<00:00, 18.85it/s]\n"
     ]
    },
    {
     "name": "stdout",
     "output_type": "stream",
     "text": [
      "\n",
      "Early layers (0-9): 0.092\n",
      "Middle layers (9-18): 0.524\n",
      "Late layers (18-28): 0.239\n"
     ]
    },
    {
     "data": {
      "image/png": "[encoded data removed]",
      "text/plain": [
       "<Figure size 1200x500 with 2 Axes>"
      ]
     },
     "metadata": {},
     "output_type": "display_data"
    }
   ],
   "source": [
    "# Minimal Layer Importance Analysis\n",
    "\n",
    "# Test individual layers\n",
    "def test_single_layer(layer_idx, tokens, original_text):\n",
    "    act_store.chosen_hook_list = [f'blocks.{layer_idx}.hook_resid_pre']\n",
    "    continued = transfer_activations(tokens, num_copies=3, num_tokens=20)\n",
    "    \n",
    "    similarities = []\n",
    "    for cont_tokens in continued:\n",
    "        cont_text = \"\".join(model.to_str_tokens(cont_tokens))\n",
    "        if original_text and cont_text:\n",
    "            vec1 = sentence_model.encode(original_text)\n",
    "            vec2 = sentence_model.encode(cont_text)\n",
    "            sim = np.dot(vec1, vec2) / (np.linalg.norm(vec1) * np.linalg.norm(vec2))\n",
    "            similarities.append(sim)\n",
    "    \n",
    "    return np.mean(similarities)\n",
    "\n",
    "# Test all layers individually\n",
    "layer_scores = {}\n",
    "for i in range(model.cfg.n_layers):\n",
    "    score = test_single_layer(i, prompt_tokens, par1_str)\n",
    "    layer_scores[i] = score\n",
    "    print(f\"Layer {i}: {score:.3f}\")\n",
    "\n",
    "# Find best layers\n",
    "best_layers = sorted(layer_scores.items(), key=lambda x: x[1], reverse=True)\n",
    "print(f\"\\nTop 5 layers: {best_layers[:5]}\")\n",
    "\n",
    "# Test layer ranges\n",
    "def test_layer_range(start, end, tokens, original_text):\n",
    "    layers = list(range(start, end))\n",
    "    act_store.chosen_hook_list = [f'blocks.{i}.hook_resid_pre' for i in layers]\n",
    "    continued = transfer_activations(tokens, num_copies=3, num_tokens=20)\n",
    "    \n",
    "    similarities = []\n",
    "    for cont_tokens in continued:\n",
    "        cont_text = \"\".join(model.to_str_tokens(cont_tokens))\n",
    "        if original_text and cont_text:\n",
    "            vec1 = sentence_model.encode(original_text)\n",
    "            vec2 = sentence_model.encode(cont_text)\n",
    "            sim = np.dot(vec1, vec2) / (np.linalg.norm(vec1) * np.linalg.norm(vec2))\n",
    "            similarities.append(sim)\n",
    "    \n",
    "    return np.mean(similarities)\n",
    "\n",
    "# Test layer ranges\n",
    "n_layers = model.cfg.n_layers\n",
    "early_score = test_layer_range(0, n_layers//3, prompt_tokens, par1_str)\n",
    "middle_score = test_layer_range(n_layers//3, 2*n_layers//3, prompt_tokens, par1_str)\n",
    "late_score = test_layer_range(2*n_layers//3, n_layers, prompt_tokens, par1_str)\n",
    "\n",
    "print(f\"\\nEarly layers (0-{n_layers//3}): {early_score:.3f}\")\n",
    "print(f\"Middle layers ({n_layers//3}-{2*n_layers//3}): {middle_score:.3f}\")\n",
    "print(f\"Late layers ({2*n_layers//3}-{n_layers}): {late_score:.3f}\")\n",
    "\n",
    "# Plot 1: Individual layer scores\n",
    "plt.figure(figsize=(12, 5))\n",
    "\n",
    "plt.subplot(1, 2, 1)\n",
    "layers = list(layer_scores.keys())\n",
    "scores = list(layer_scores.values())\n",
    "plt.plot(layers, scores, 'o-')\n",
    "plt.xlabel('Layer Index')\n",
    "plt.ylabel('Mean Similarity Score')\n",
    "plt.title('Individual Layer Importance')\n",
    "plt.grid(True, alpha=0.3)\n",
    "\n",
    "# Plot 2: Layer range comparison\n",
    "plt.subplot(1, 2, 2)\n",
    "ranges = ['Early', 'Middle', 'Late']\n",
    "range_scores = [early_score, middle_score, late_score]\n",
    "plt.bar(ranges, range_scores)\n",
    "plt.ylabel('Mean Similarity Score')\n",
    "plt.title('Layer Range Comparison')\n",
    "plt.ylim(0, max(range_scores) * 1.1)\n",
    "\n",
    "plt.tight_layout()\n",
    "plt.show()\n",
    "\n",
    "# Reset to all layers\n",
    "act_store.chosen_hook_list = [f'blocks.{i}.{h}' for h in ['hook_resid_pre', 'hook_resid_mid'] for i in range(model.cfg.n_layers)]"
   ]
  },
  {
   "cell_type": "markdown",
   "metadata": {},
   "source": [
    " ### Bonus: (ie: exercises not yet implemented)\n",
    " Try to replicate other parts of the post:\n",
    " [https://link.nicky.pro/parascopes](https://link.nicky.pro/parascopes)\n"
   ]
  },
  {
   "cell_type": "markdown",
   "metadata": {},
   "source": [
    "Which layers do SONAR Maps pay attention to?"
   ]
  },
  {
   "cell_type": "code",
   "execution_count": 34,
   "metadata": {},
   "outputs": [
    {
     "name": "stdout",
     "output_type": "stream",
     "text": [
      "\n",
      "Analyzing activation magnitudes (similar to SONAR ParaScopes)...\n"
     ]
    },
    {
     "data": {
      "image/png": "[encoded data removed]",
      "text/plain": [
       "<Figure size 1200x600 with 1 Axes>"
      ]
     },
     "metadata": {},
     "output_type": "display_data"
    },
    {
     "name": "stdout",
     "output_type": "stream",
     "text": [
      "\n",
      "Activation Magnitude Analysis:\n",
      "Mean Attention magnitude: 4.331\n",
      "Mean MLP magnitude: 7.200\n",
      "Layers where Attention > MLP: 5/28\n"
     ]
    }
   ],
   "source": [
    "def analyze_activation_magnitudes(tokens):\n",
    "    \"\"\"Analyze which layers have the strongest activations for continuation.\"\"\"\n",
    "    layer_magnitudes = {'resid_pre': [], 'resid_mid': [], 'attn_out': [], 'mlp_out': []}\n",
    "    \n",
    "    # Store activations from all relevant hooks\n",
    "    hooks = []\n",
    "    for i in range(model.cfg.n_layers):\n",
    "        hooks.extend([\n",
    "            f'blocks.{i}.hook_resid_pre',\n",
    "            f'blocks.{i}.hook_resid_mid', \n",
    "            f'blocks.{i}.hook_attn_out',\n",
    "            f'blocks.{i}.hook_mlp_out'\n",
    "        ])\n",
    "    \n",
    "    stored_acts = {}\n",
    "    def store_act(act, hook):\n",
    "        stored_acts[hook.name] = act.clone()\n",
    "        return act\n",
    "    \n",
    "    # Run model with hooks\n",
    "    with model.hooks([(hook, store_act) for hook in hooks]):\n",
    "        _ = model(tokens)\n",
    "    \n",
    "    # Calculate Frobenius norms for each layer\n",
    "    for i in range(model.cfg.n_layers):\n",
    "        # Get activations at the last token position\n",
    "        resid_pre = stored_acts[f'blocks.{i}.hook_resid_pre'][0, -1, :]\n",
    "        resid_mid = stored_acts[f'blocks.{i}.hook_resid_mid'][0, -1, :]\n",
    "        attn_out = stored_acts[f'blocks.{i}.hook_attn_out'][0, -1, :]\n",
    "        mlp_out = stored_acts[f'blocks.{i}.hook_mlp_out'][0, -1, :]\n",
    "        \n",
    "        # Calculate Frobenius norms (L2 norm for vectors)\n",
    "        layer_magnitudes['resid_pre'].append(torch.norm(resid_pre).item())\n",
    "        layer_magnitudes['resid_mid'].append(torch.norm(resid_mid).item())\n",
    "        layer_magnitudes['attn_out'].append(torch.norm(attn_out).item())\n",
    "        layer_magnitudes['mlp_out'].append(torch.norm(mlp_out).item())\n",
    "    \n",
    "    return layer_magnitudes\n",
    "\n",
    "# Analysis of activation magnitude by layer (similar to SONAR ParaScopes analysis)\n",
    "def analyze_activation_magnitudes(tokens):\n",
    "    \"\"\"Analyze which layers have the strongest activations for continuation.\"\"\"\n",
    "    layer_magnitudes = {'attn_out': [], 'mlp_out': []}\n",
    "    \n",
    "    # Store activations from all relevant hooks\n",
    "    hooks = []\n",
    "    for i in range(model.cfg.n_layers):\n",
    "        hooks.extend([\n",
    "            f'blocks.{i}.hook_attn_out',\n",
    "            f'blocks.{i}.hook_mlp_out'\n",
    "        ])\n",
    "    \n",
    "    stored_acts = {}\n",
    "    def store_act(act, hook):\n",
    "        stored_acts[hook.name] = act.clone()\n",
    "        return act\n",
    "    \n",
    "    # Run model with hooks\n",
    "    with model.hooks([(hook, store_act) for hook in hooks]):\n",
    "        _ = model(tokens)\n",
    "    \n",
    "    # Calculate Frobenius norms for each layer\n",
    "    for i in range(model.cfg.n_layers):\n",
    "        # Get activations at the last token position\n",
    "        attn_out = stored_acts[f'blocks.{i}.hook_attn_out'][0, -1, :]\n",
    "        mlp_out = stored_acts[f'blocks.{i}.hook_mlp_out'][0, -1, :]\n",
    "        \n",
    "        # Calculate Frobenius norms (L2 norm for vectors)\n",
    "        layer_magnitudes['attn_out'].append(torch.norm(attn_out).item())\n",
    "        layer_magnitudes['mlp_out'].append(torch.norm(mlp_out).item())\n",
    "    \n",
    "    return layer_magnitudes\n",
    "\n",
    "# Analyze activation magnitudes\n",
    "print(\"\\nAnalyzing activation magnitudes (similar to SONAR ParaScopes)...\")\n",
    "magnitudes = analyze_activation_magnitudes(prompt_tokens)\n",
    "\n",
    "# Single plot: Attention vs MLP magnitudes by layer\n",
    "plt.figure(figsize=(12, 6))\n",
    "x = np.arange(len(magnitudes['attn_out']))\n",
    "width = 0.35\n",
    "\n",
    "plt.bar(x - width/2, magnitudes['attn_out'], width, label='Attention Out', alpha=0.8, color='blue')\n",
    "plt.bar(x + width/2, magnitudes['mlp_out'], width, label='MLP Out', alpha=0.8, color='red')\n",
    "\n",
    "plt.xlabel('Layer Index')\n",
    "plt.ylabel('Frobenius Norm')\n",
    "plt.title('Frobenius Norm of Activations by Layer\\n(Attention Out vs MLP Out)')\n",
    "plt.legend()\n",
    "plt.grid(True, alpha=0.3)\n",
    "\n",
    "# Add layer labels on x-axis\n",
    "plt.xticks(x, [f'L{i}' for i in range(len(magnitudes['attn_out']))])\n",
    "plt.tight_layout()\n",
    "plt.show()\n",
    "\n",
    "# Print summary statistics\n",
    "print(f\"\\nActivation Magnitude Analysis:\")\n",
    "print(f\"Mean Attention magnitude: {np.mean(magnitudes['attn_out']):.3f}\")\n",
    "print(f\"Mean MLP magnitude: {np.mean(magnitudes['mlp_out']):.3f}\")\n",
    "attn_higher = np.sum(np.array(magnitudes['attn_out']) > np.array(magnitudes['mlp_out']))\n",
    "print(f\"Layers where Attention > MLP: {attn_higher}/{len(magnitudes['attn_out'])}\")"
   ]
  },
  {
   "cell_type": "markdown",
   "metadata": {},
   "source": [
    "Weights mapping from Attention Out to SONAR are **higher** than weights mapping from MLP Out to SONAR.\n",
    "The difference is not **slight**, because:\n",
    "1. Different analysis methods: The original SONAR analysis looked at the weights of a trained linear probe that maps from activations to SONAR embeddings. I'm looking at the raw activation magnitudes themselves. \n",
    "2. Missing normalization"
   ]
  }
 ],
 "metadata": {
  "kernelspec": {
   "display_name": ".conda",
   "language": "python",
   "name": "python3"
  },
  "language_info": {
   "codemirror_mode": {
    "name": "ipython",
    "version": 3
   },
   "file_extension": ".py",
   "mimetype": "text/x-python",
   "name": "python",
   "nbconvert_exporter": "python",
   "pygments_lexer": "ipython3",
   "version": "3.11.13"
  }
 },
 "nbformat": 4,
 "nbformat_minor": 2
}
